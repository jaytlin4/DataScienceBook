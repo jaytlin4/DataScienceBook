{
 "cells": [
  {
   "cell_type": "code",
   "execution_count": 1,
   "id": "7cb1056d",
   "metadata": {
    "execution": {
     "iopub.execute_input": "2023-03-09T13:21:05.117125Z",
     "iopub.status.busy": "2023-03-09T13:21:05.116670Z",
     "iopub.status.idle": "2023-03-09T13:22:56.677174Z",
     "shell.execute_reply": "2023-03-09T13:22:56.673532Z"
    },
    "jupyter": {
     "source_hidden": true
    },
    "papermill": {
     "duration": 111.579782,
     "end_time": "2023-03-09T13:22:56.684973",
     "exception": false,
     "start_time": "2023-03-09T13:21:05.105191",
     "status": "completed"
    },
    "tags": []
   },
   "outputs": [],
   "source": [
    "import pandas as pd\n",
    "import matplotlib.pylab as plt\n",
    "import seaborn as sns\n",
    "import matplotlib.patches as patches\n",
    "import pandas_profiling\n",
    "import warnings\n",
    "import numpy as np\n",
    "warnings.filterwarnings('ignore')\n",
    "\n",
    "from time import time\n",
    "\n",
    "playlist = pd.read_csv('../input/nfl-playing-surface-analytics/PlayList.csv')\n",
    "injuries = pd.read_csv('/kaggle/input/nfl-playing-surface-analytics/InjuryRecord.csv')\n",
    "tracking = pd.read_csv('/kaggle/input/nfl-playing-surface-analytics/PlayerTrackData.csv')"
   ]
  },
  {
   "cell_type": "markdown",
   "id": "69f98b1f",
   "metadata": {
    "papermill": {
     "duration": 0.008803,
     "end_time": "2023-03-09T13:22:56.710332",
     "exception": false,
     "start_time": "2023-03-09T13:22:56.701529",
     "status": "completed"
    },
    "tags": []
   },
   "source": [
    "# NFL Injury Analysis"
   ]
  },
  {
   "cell_type": "markdown",
   "id": "db5b4135",
   "metadata": {
    "papermill": {
     "duration": 0.008681,
     "end_time": "2023-03-09T13:22:56.728176",
     "exception": false,
     "start_time": "2023-03-09T13:22:56.719495",
     "status": "completed"
    },
    "tags": []
   },
   "source": [
    "The goal of this analysis is to understand player injuries based on specific variables related to plays and game conditions."
   ]
  },
  {
   "cell_type": "code",
   "execution_count": 2,
   "id": "275f653d",
   "metadata": {
    "execution": {
     "iopub.execute_input": "2023-03-09T13:22:56.749674Z",
     "iopub.status.busy": "2023-03-09T13:22:56.749114Z",
     "iopub.status.idle": "2023-03-09T13:22:56.792753Z",
     "shell.execute_reply": "2023-03-09T13:22:56.791491Z"
    },
    "papermill": {
     "duration": 0.062201,
     "end_time": "2023-03-09T13:22:56.799327",
     "exception": false,
     "start_time": "2023-03-09T13:22:56.737126",
     "status": "completed"
    },
    "tags": []
   },
   "outputs": [
    {
     "data": {
      "text/html": [
       "<div>\n",
       "<style scoped>\n",
       "    .dataframe tbody tr th:only-of-type {\n",
       "        vertical-align: middle;\n",
       "    }\n",
       "\n",
       "    .dataframe tbody tr th {\n",
       "        vertical-align: top;\n",
       "    }\n",
       "\n",
       "    .dataframe thead th {\n",
       "        text-align: right;\n",
       "    }\n",
       "</style>\n",
       "<table border=\"1\" class=\"dataframe\">\n",
       "  <thead>\n",
       "    <tr style=\"text-align: right;\">\n",
       "      <th></th>\n",
       "      <th>PlayerKey</th>\n",
       "      <th>GameID</th>\n",
       "      <th>PlayKey</th>\n",
       "      <th>RosterPosition</th>\n",
       "      <th>PlayerDay</th>\n",
       "      <th>PlayerGame</th>\n",
       "      <th>StadiumType</th>\n",
       "      <th>FieldType</th>\n",
       "      <th>Temperature</th>\n",
       "      <th>Weather</th>\n",
       "      <th>PlayType</th>\n",
       "      <th>PlayerGamePlay</th>\n",
       "      <th>Position</th>\n",
       "      <th>PositionGroup</th>\n",
       "    </tr>\n",
       "  </thead>\n",
       "  <tbody>\n",
       "    <tr>\n",
       "      <th>0</th>\n",
       "      <td>26624</td>\n",
       "      <td>26624-1</td>\n",
       "      <td>26624-1-1</td>\n",
       "      <td>Quarterback</td>\n",
       "      <td>1</td>\n",
       "      <td>1</td>\n",
       "      <td>Outdoor</td>\n",
       "      <td>Synthetic</td>\n",
       "      <td>63</td>\n",
       "      <td>Clear and warm</td>\n",
       "      <td>Pass</td>\n",
       "      <td>1</td>\n",
       "      <td>QB</td>\n",
       "      <td>QB</td>\n",
       "    </tr>\n",
       "    <tr>\n",
       "      <th>1</th>\n",
       "      <td>26624</td>\n",
       "      <td>26624-1</td>\n",
       "      <td>26624-1-2</td>\n",
       "      <td>Quarterback</td>\n",
       "      <td>1</td>\n",
       "      <td>1</td>\n",
       "      <td>Outdoor</td>\n",
       "      <td>Synthetic</td>\n",
       "      <td>63</td>\n",
       "      <td>Clear and warm</td>\n",
       "      <td>Pass</td>\n",
       "      <td>2</td>\n",
       "      <td>QB</td>\n",
       "      <td>QB</td>\n",
       "    </tr>\n",
       "    <tr>\n",
       "      <th>2</th>\n",
       "      <td>26624</td>\n",
       "      <td>26624-1</td>\n",
       "      <td>26624-1-3</td>\n",
       "      <td>Quarterback</td>\n",
       "      <td>1</td>\n",
       "      <td>1</td>\n",
       "      <td>Outdoor</td>\n",
       "      <td>Synthetic</td>\n",
       "      <td>63</td>\n",
       "      <td>Clear and warm</td>\n",
       "      <td>Rush</td>\n",
       "      <td>3</td>\n",
       "      <td>QB</td>\n",
       "      <td>QB</td>\n",
       "    </tr>\n",
       "    <tr>\n",
       "      <th>3</th>\n",
       "      <td>26624</td>\n",
       "      <td>26624-1</td>\n",
       "      <td>26624-1-4</td>\n",
       "      <td>Quarterback</td>\n",
       "      <td>1</td>\n",
       "      <td>1</td>\n",
       "      <td>Outdoor</td>\n",
       "      <td>Synthetic</td>\n",
       "      <td>63</td>\n",
       "      <td>Clear and warm</td>\n",
       "      <td>Rush</td>\n",
       "      <td>4</td>\n",
       "      <td>QB</td>\n",
       "      <td>QB</td>\n",
       "    </tr>\n",
       "    <tr>\n",
       "      <th>4</th>\n",
       "      <td>26624</td>\n",
       "      <td>26624-1</td>\n",
       "      <td>26624-1-5</td>\n",
       "      <td>Quarterback</td>\n",
       "      <td>1</td>\n",
       "      <td>1</td>\n",
       "      <td>Outdoor</td>\n",
       "      <td>Synthetic</td>\n",
       "      <td>63</td>\n",
       "      <td>Clear and warm</td>\n",
       "      <td>Pass</td>\n",
       "      <td>5</td>\n",
       "      <td>QB</td>\n",
       "      <td>QB</td>\n",
       "    </tr>\n",
       "  </tbody>\n",
       "</table>\n",
       "</div>"
      ],
      "text/plain": [
       "   PlayerKey   GameID    PlayKey RosterPosition  PlayerDay  PlayerGame  \\\n",
       "0      26624  26624-1  26624-1-1    Quarterback          1           1   \n",
       "1      26624  26624-1  26624-1-2    Quarterback          1           1   \n",
       "2      26624  26624-1  26624-1-3    Quarterback          1           1   \n",
       "3      26624  26624-1  26624-1-4    Quarterback          1           1   \n",
       "4      26624  26624-1  26624-1-5    Quarterback          1           1   \n",
       "\n",
       "  StadiumType  FieldType  Temperature         Weather PlayType  \\\n",
       "0     Outdoor  Synthetic           63  Clear and warm     Pass   \n",
       "1     Outdoor  Synthetic           63  Clear and warm     Pass   \n",
       "2     Outdoor  Synthetic           63  Clear and warm     Rush   \n",
       "3     Outdoor  Synthetic           63  Clear and warm     Rush   \n",
       "4     Outdoor  Synthetic           63  Clear and warm     Pass   \n",
       "\n",
       "   PlayerGamePlay Position PositionGroup  \n",
       "0               1       QB            QB  \n",
       "1               2       QB            QB  \n",
       "2               3       QB            QB  \n",
       "3               4       QB            QB  \n",
       "4               5       QB            QB  "
      ]
     },
     "execution_count": 2,
     "metadata": {},
     "output_type": "execute_result"
    }
   ],
   "source": [
    "playlist.head()"
   ]
  },
  {
   "cell_type": "code",
   "execution_count": 3,
   "id": "1990cbdd",
   "metadata": {
    "execution": {
     "iopub.execute_input": "2023-03-09T13:22:56.818819Z",
     "iopub.status.busy": "2023-03-09T13:22:56.818408Z",
     "iopub.status.idle": "2023-03-09T13:22:56.832931Z",
     "shell.execute_reply": "2023-03-09T13:22:56.831558Z"
    },
    "papermill": {
     "duration": 0.027526,
     "end_time": "2023-03-09T13:22:56.835723",
     "exception": false,
     "start_time": "2023-03-09T13:22:56.808197",
     "status": "completed"
    },
    "tags": []
   },
   "outputs": [
    {
     "data": {
      "text/html": [
       "<div>\n",
       "<style scoped>\n",
       "    .dataframe tbody tr th:only-of-type {\n",
       "        vertical-align: middle;\n",
       "    }\n",
       "\n",
       "    .dataframe tbody tr th {\n",
       "        vertical-align: top;\n",
       "    }\n",
       "\n",
       "    .dataframe thead th {\n",
       "        text-align: right;\n",
       "    }\n",
       "</style>\n",
       "<table border=\"1\" class=\"dataframe\">\n",
       "  <thead>\n",
       "    <tr style=\"text-align: right;\">\n",
       "      <th></th>\n",
       "      <th>PlayerKey</th>\n",
       "      <th>GameID</th>\n",
       "      <th>PlayKey</th>\n",
       "      <th>BodyPart</th>\n",
       "      <th>Surface</th>\n",
       "      <th>DM_M1</th>\n",
       "      <th>DM_M7</th>\n",
       "      <th>DM_M28</th>\n",
       "      <th>DM_M42</th>\n",
       "    </tr>\n",
       "  </thead>\n",
       "  <tbody>\n",
       "    <tr>\n",
       "      <th>0</th>\n",
       "      <td>39873</td>\n",
       "      <td>39873-4</td>\n",
       "      <td>39873-4-32</td>\n",
       "      <td>Knee</td>\n",
       "      <td>Synthetic</td>\n",
       "      <td>1</td>\n",
       "      <td>1</td>\n",
       "      <td>1</td>\n",
       "      <td>1</td>\n",
       "    </tr>\n",
       "    <tr>\n",
       "      <th>1</th>\n",
       "      <td>46074</td>\n",
       "      <td>46074-7</td>\n",
       "      <td>46074-7-26</td>\n",
       "      <td>Knee</td>\n",
       "      <td>Natural</td>\n",
       "      <td>1</td>\n",
       "      <td>1</td>\n",
       "      <td>0</td>\n",
       "      <td>0</td>\n",
       "    </tr>\n",
       "    <tr>\n",
       "      <th>2</th>\n",
       "      <td>36557</td>\n",
       "      <td>36557-1</td>\n",
       "      <td>36557-1-70</td>\n",
       "      <td>Ankle</td>\n",
       "      <td>Synthetic</td>\n",
       "      <td>1</td>\n",
       "      <td>1</td>\n",
       "      <td>1</td>\n",
       "      <td>1</td>\n",
       "    </tr>\n",
       "    <tr>\n",
       "      <th>3</th>\n",
       "      <td>46646</td>\n",
       "      <td>46646-3</td>\n",
       "      <td>46646-3-30</td>\n",
       "      <td>Ankle</td>\n",
       "      <td>Natural</td>\n",
       "      <td>1</td>\n",
       "      <td>0</td>\n",
       "      <td>0</td>\n",
       "      <td>0</td>\n",
       "    </tr>\n",
       "    <tr>\n",
       "      <th>4</th>\n",
       "      <td>43532</td>\n",
       "      <td>43532-5</td>\n",
       "      <td>43532-5-69</td>\n",
       "      <td>Ankle</td>\n",
       "      <td>Synthetic</td>\n",
       "      <td>1</td>\n",
       "      <td>1</td>\n",
       "      <td>1</td>\n",
       "      <td>1</td>\n",
       "    </tr>\n",
       "  </tbody>\n",
       "</table>\n",
       "</div>"
      ],
      "text/plain": [
       "   PlayerKey   GameID     PlayKey BodyPart    Surface  DM_M1  DM_M7  DM_M28  \\\n",
       "0      39873  39873-4  39873-4-32     Knee  Synthetic      1      1       1   \n",
       "1      46074  46074-7  46074-7-26     Knee    Natural      1      1       0   \n",
       "2      36557  36557-1  36557-1-70    Ankle  Synthetic      1      1       1   \n",
       "3      46646  46646-3  46646-3-30    Ankle    Natural      1      0       0   \n",
       "4      43532  43532-5  43532-5-69    Ankle  Synthetic      1      1       1   \n",
       "\n",
       "   DM_M42  \n",
       "0       1  \n",
       "1       0  \n",
       "2       1  \n",
       "3       0  \n",
       "4       1  "
      ]
     },
     "execution_count": 3,
     "metadata": {},
     "output_type": "execute_result"
    }
   ],
   "source": [
    "injuries.head()"
   ]
  },
  {
   "cell_type": "markdown",
   "id": "170281ac",
   "metadata": {
    "papermill": {
     "duration": 0.008442,
     "end_time": "2023-03-09T13:22:56.853206",
     "exception": false,
     "start_time": "2023-03-09T13:22:56.844764",
     "status": "completed"
    },
    "tags": []
   },
   "source": [
    "# Synthetic vs Natural Data Split"
   ]
  },
  {
   "cell_type": "code",
   "execution_count": 4,
   "id": "8c9e69b4",
   "metadata": {
    "execution": {
     "iopub.execute_input": "2023-03-09T13:22:56.876676Z",
     "iopub.status.busy": "2023-03-09T13:22:56.875998Z",
     "iopub.status.idle": "2023-03-09T13:22:56.887662Z",
     "shell.execute_reply": "2023-03-09T13:22:56.886344Z"
    },
    "papermill": {
     "duration": 0.024475,
     "end_time": "2023-03-09T13:22:56.890229",
     "exception": false,
     "start_time": "2023-03-09T13:22:56.865754",
     "status": "completed"
    },
    "tags": []
   },
   "outputs": [],
   "source": [
    "inj_natural = injuries[injuries.Surface == 'Natural']\n",
    "inj_turf = injuries[injuries.Surface == 'Synthetic']"
   ]
  },
  {
   "cell_type": "code",
   "execution_count": 5,
   "id": "29d36ed6",
   "metadata": {
    "execution": {
     "iopub.execute_input": "2023-03-09T13:22:56.910142Z",
     "iopub.status.busy": "2023-03-09T13:22:56.909416Z",
     "iopub.status.idle": "2023-03-09T13:22:56.924623Z",
     "shell.execute_reply": "2023-03-09T13:22:56.923340Z"
    },
    "papermill": {
     "duration": 0.028071,
     "end_time": "2023-03-09T13:22:56.927295",
     "exception": false,
     "start_time": "2023-03-09T13:22:56.899224",
     "status": "completed"
    },
    "tags": []
   },
   "outputs": [
    {
     "data": {
      "text/html": [
       "<div>\n",
       "<style scoped>\n",
       "    .dataframe tbody tr th:only-of-type {\n",
       "        vertical-align: middle;\n",
       "    }\n",
       "\n",
       "    .dataframe tbody tr th {\n",
       "        vertical-align: top;\n",
       "    }\n",
       "\n",
       "    .dataframe thead th {\n",
       "        text-align: right;\n",
       "    }\n",
       "</style>\n",
       "<table border=\"1\" class=\"dataframe\">\n",
       "  <thead>\n",
       "    <tr style=\"text-align: right;\">\n",
       "      <th></th>\n",
       "      <th>PlayerKey</th>\n",
       "      <th>GameID</th>\n",
       "      <th>PlayKey</th>\n",
       "      <th>BodyPart</th>\n",
       "      <th>Surface</th>\n",
       "      <th>DM_M1</th>\n",
       "      <th>DM_M7</th>\n",
       "      <th>DM_M28</th>\n",
       "      <th>DM_M42</th>\n",
       "    </tr>\n",
       "  </thead>\n",
       "  <tbody>\n",
       "    <tr>\n",
       "      <th>1</th>\n",
       "      <td>46074</td>\n",
       "      <td>46074-7</td>\n",
       "      <td>46074-7-26</td>\n",
       "      <td>Knee</td>\n",
       "      <td>Natural</td>\n",
       "      <td>1</td>\n",
       "      <td>1</td>\n",
       "      <td>0</td>\n",
       "      <td>0</td>\n",
       "    </tr>\n",
       "    <tr>\n",
       "      <th>3</th>\n",
       "      <td>46646</td>\n",
       "      <td>46646-3</td>\n",
       "      <td>46646-3-30</td>\n",
       "      <td>Ankle</td>\n",
       "      <td>Natural</td>\n",
       "      <td>1</td>\n",
       "      <td>0</td>\n",
       "      <td>0</td>\n",
       "      <td>0</td>\n",
       "    </tr>\n",
       "    <tr>\n",
       "      <th>5</th>\n",
       "      <td>41145</td>\n",
       "      <td>41145-2</td>\n",
       "      <td>41145-2-60</td>\n",
       "      <td>Knee</td>\n",
       "      <td>Natural</td>\n",
       "      <td>1</td>\n",
       "      <td>0</td>\n",
       "      <td>0</td>\n",
       "      <td>0</td>\n",
       "    </tr>\n",
       "    <tr>\n",
       "      <th>7</th>\n",
       "      <td>44860</td>\n",
       "      <td>44860-5</td>\n",
       "      <td>44860-5-52</td>\n",
       "      <td>Knee</td>\n",
       "      <td>Natural</td>\n",
       "      <td>1</td>\n",
       "      <td>1</td>\n",
       "      <td>0</td>\n",
       "      <td>0</td>\n",
       "    </tr>\n",
       "    <tr>\n",
       "      <th>11</th>\n",
       "      <td>36621</td>\n",
       "      <td>36621-13</td>\n",
       "      <td>36621-13-58</td>\n",
       "      <td>Foot</td>\n",
       "      <td>Natural</td>\n",
       "      <td>1</td>\n",
       "      <td>1</td>\n",
       "      <td>1</td>\n",
       "      <td>1</td>\n",
       "    </tr>\n",
       "  </tbody>\n",
       "</table>\n",
       "</div>"
      ],
      "text/plain": [
       "    PlayerKey    GameID      PlayKey BodyPart  Surface  DM_M1  DM_M7  DM_M28  \\\n",
       "1       46074   46074-7   46074-7-26     Knee  Natural      1      1       0   \n",
       "3       46646   46646-3   46646-3-30    Ankle  Natural      1      0       0   \n",
       "5       41145   41145-2   41145-2-60     Knee  Natural      1      0       0   \n",
       "7       44860   44860-5   44860-5-52     Knee  Natural      1      1       0   \n",
       "11      36621  36621-13  36621-13-58     Foot  Natural      1      1       1   \n",
       "\n",
       "    DM_M42  \n",
       "1        0  \n",
       "3        0  \n",
       "5        0  \n",
       "7        0  \n",
       "11       1  "
      ]
     },
     "execution_count": 5,
     "metadata": {},
     "output_type": "execute_result"
    }
   ],
   "source": [
    "inj_natural.head()"
   ]
  },
  {
   "cell_type": "code",
   "execution_count": 6,
   "id": "15c66b70",
   "metadata": {
    "execution": {
     "iopub.execute_input": "2023-03-09T13:22:56.947549Z",
     "iopub.status.busy": "2023-03-09T13:22:56.947068Z",
     "iopub.status.idle": "2023-03-09T13:22:56.963665Z",
     "shell.execute_reply": "2023-03-09T13:22:56.962390Z"
    },
    "papermill": {
     "duration": 0.029669,
     "end_time": "2023-03-09T13:22:56.966163",
     "exception": false,
     "start_time": "2023-03-09T13:22:56.936494",
     "status": "completed"
    },
    "tags": []
   },
   "outputs": [
    {
     "data": {
      "text/html": [
       "<div>\n",
       "<style scoped>\n",
       "    .dataframe tbody tr th:only-of-type {\n",
       "        vertical-align: middle;\n",
       "    }\n",
       "\n",
       "    .dataframe tbody tr th {\n",
       "        vertical-align: top;\n",
       "    }\n",
       "\n",
       "    .dataframe thead th {\n",
       "        text-align: right;\n",
       "    }\n",
       "</style>\n",
       "<table border=\"1\" class=\"dataframe\">\n",
       "  <thead>\n",
       "    <tr style=\"text-align: right;\">\n",
       "      <th></th>\n",
       "      <th>PlayerKey</th>\n",
       "      <th>GameID</th>\n",
       "      <th>PlayKey</th>\n",
       "      <th>BodyPart</th>\n",
       "      <th>Surface</th>\n",
       "      <th>DM_M1</th>\n",
       "      <th>DM_M7</th>\n",
       "      <th>DM_M28</th>\n",
       "      <th>DM_M42</th>\n",
       "    </tr>\n",
       "  </thead>\n",
       "  <tbody>\n",
       "    <tr>\n",
       "      <th>0</th>\n",
       "      <td>39873</td>\n",
       "      <td>39873-4</td>\n",
       "      <td>39873-4-32</td>\n",
       "      <td>Knee</td>\n",
       "      <td>Synthetic</td>\n",
       "      <td>1</td>\n",
       "      <td>1</td>\n",
       "      <td>1</td>\n",
       "      <td>1</td>\n",
       "    </tr>\n",
       "    <tr>\n",
       "      <th>2</th>\n",
       "      <td>36557</td>\n",
       "      <td>36557-1</td>\n",
       "      <td>36557-1-70</td>\n",
       "      <td>Ankle</td>\n",
       "      <td>Synthetic</td>\n",
       "      <td>1</td>\n",
       "      <td>1</td>\n",
       "      <td>1</td>\n",
       "      <td>1</td>\n",
       "    </tr>\n",
       "    <tr>\n",
       "      <th>4</th>\n",
       "      <td>43532</td>\n",
       "      <td>43532-5</td>\n",
       "      <td>43532-5-69</td>\n",
       "      <td>Ankle</td>\n",
       "      <td>Synthetic</td>\n",
       "      <td>1</td>\n",
       "      <td>1</td>\n",
       "      <td>1</td>\n",
       "      <td>1</td>\n",
       "    </tr>\n",
       "    <tr>\n",
       "      <th>6</th>\n",
       "      <td>46014</td>\n",
       "      <td>46014-10</td>\n",
       "      <td>46014-10-22</td>\n",
       "      <td>Ankle</td>\n",
       "      <td>Synthetic</td>\n",
       "      <td>1</td>\n",
       "      <td>1</td>\n",
       "      <td>1</td>\n",
       "      <td>1</td>\n",
       "    </tr>\n",
       "    <tr>\n",
       "      <th>8</th>\n",
       "      <td>44806</td>\n",
       "      <td>44806-7</td>\n",
       "      <td>44806-7-61</td>\n",
       "      <td>Knee</td>\n",
       "      <td>Synthetic</td>\n",
       "      <td>1</td>\n",
       "      <td>0</td>\n",
       "      <td>0</td>\n",
       "      <td>0</td>\n",
       "    </tr>\n",
       "  </tbody>\n",
       "</table>\n",
       "</div>"
      ],
      "text/plain": [
       "   PlayerKey    GameID      PlayKey BodyPart    Surface  DM_M1  DM_M7  DM_M28  \\\n",
       "0      39873   39873-4   39873-4-32     Knee  Synthetic      1      1       1   \n",
       "2      36557   36557-1   36557-1-70    Ankle  Synthetic      1      1       1   \n",
       "4      43532   43532-5   43532-5-69    Ankle  Synthetic      1      1       1   \n",
       "6      46014  46014-10  46014-10-22    Ankle  Synthetic      1      1       1   \n",
       "8      44806   44806-7   44806-7-61     Knee  Synthetic      1      0       0   \n",
       "\n",
       "   DM_M42  \n",
       "0       1  \n",
       "2       1  \n",
       "4       1  \n",
       "6       1  \n",
       "8       0  "
      ]
     },
     "execution_count": 6,
     "metadata": {},
     "output_type": "execute_result"
    }
   ],
   "source": [
    "inj_turf.head()"
   ]
  },
  {
   "cell_type": "markdown",
   "id": "6fc855ac",
   "metadata": {
    "papermill": {
     "duration": 0.009075,
     "end_time": "2023-03-09T13:22:56.984496",
     "exception": false,
     "start_time": "2023-03-09T13:22:56.975421",
     "status": "completed"
    },
    "tags": []
   },
   "source": [
    "* Visualize the field\n",
    "* Heatmaps of different types of injuries\n",
    "* Heatmap with player position on days missed on synthetic vs real turf\n",
    "* trends when connecting player injuries to he attributes of the play\n",
    "* Ultimately have to connect it to a surface factor\n",
    "* Build a logistic model that predicts probability of injury based on surface type\n",
    "* How early in the game do they get injured based on the surface\n",
    "* number of plays it takes for an injury based on position\n",
    "* number of days missed based on injury"
   ]
  },
  {
   "cell_type": "markdown",
   "id": "b5781ed4",
   "metadata": {
    "papermill": {
     "duration": 0.008933,
     "end_time": "2023-03-09T13:22:57.002613",
     "exception": false,
     "start_time": "2023-03-09T13:22:56.993680",
     "status": "completed"
    },
    "tags": []
   },
   "source": [
    "# Data cleaning"
   ]
  },
  {
   "cell_type": "code",
   "execution_count": 7,
   "id": "6c018a86",
   "metadata": {
    "execution": {
     "iopub.execute_input": "2023-03-09T13:22:57.023312Z",
     "iopub.status.busy": "2023-03-09T13:22:57.022866Z",
     "iopub.status.idle": "2023-03-09T13:22:57.916243Z",
     "shell.execute_reply": "2023-03-09T13:22:57.914906Z"
    },
    "papermill": {
     "duration": 0.907155,
     "end_time": "2023-03-09T13:22:57.919057",
     "exception": false,
     "start_time": "2023-03-09T13:22:57.011902",
     "status": "completed"
    },
    "tags": []
   },
   "outputs": [
    {
     "data": {
      "text/html": [
       "<div>\n",
       "<style scoped>\n",
       "    .dataframe tbody tr th:only-of-type {\n",
       "        vertical-align: middle;\n",
       "    }\n",
       "\n",
       "    .dataframe tbody tr th {\n",
       "        vertical-align: top;\n",
       "    }\n",
       "\n",
       "    .dataframe thead th {\n",
       "        text-align: right;\n",
       "    }\n",
       "</style>\n",
       "<table border=\"1\" class=\"dataframe\">\n",
       "  <thead>\n",
       "    <tr style=\"text-align: right;\">\n",
       "      <th></th>\n",
       "      <th>PlayerKey</th>\n",
       "      <th>GameID</th>\n",
       "      <th>PlayKey</th>\n",
       "      <th>BodyPart</th>\n",
       "      <th>Surface</th>\n",
       "      <th>DM_M1</th>\n",
       "      <th>DM_M7</th>\n",
       "      <th>DM_M28</th>\n",
       "      <th>DM_M42</th>\n",
       "      <th>RosterPosition</th>\n",
       "      <th>PlayerDay</th>\n",
       "      <th>PlayerGame</th>\n",
       "      <th>StadiumType</th>\n",
       "      <th>FieldType</th>\n",
       "      <th>Temperature</th>\n",
       "      <th>Weather</th>\n",
       "      <th>PlayType</th>\n",
       "      <th>PlayerGamePlay</th>\n",
       "      <th>Position</th>\n",
       "      <th>PositionGroup</th>\n",
       "    </tr>\n",
       "  </thead>\n",
       "  <tbody>\n",
       "    <tr>\n",
       "      <th>0</th>\n",
       "      <td>39873</td>\n",
       "      <td>39873-4</td>\n",
       "      <td>39873-4-32</td>\n",
       "      <td>Knee</td>\n",
       "      <td>Synthetic</td>\n",
       "      <td>1</td>\n",
       "      <td>1</td>\n",
       "      <td>1</td>\n",
       "      <td>1</td>\n",
       "      <td>Linebacker</td>\n",
       "      <td>29.0</td>\n",
       "      <td>4.0</td>\n",
       "      <td>Indoors</td>\n",
       "      <td>Synthetic</td>\n",
       "      <td>84.0</td>\n",
       "      <td>Cloudy</td>\n",
       "      <td>Punt</td>\n",
       "      <td>32.0</td>\n",
       "      <td>OLB</td>\n",
       "      <td>LB</td>\n",
       "    </tr>\n",
       "    <tr>\n",
       "      <th>1</th>\n",
       "      <td>46074</td>\n",
       "      <td>46074-7</td>\n",
       "      <td>46074-7-26</td>\n",
       "      <td>Knee</td>\n",
       "      <td>Natural</td>\n",
       "      <td>1</td>\n",
       "      <td>1</td>\n",
       "      <td>0</td>\n",
       "      <td>0</td>\n",
       "      <td>Linebacker</td>\n",
       "      <td>50.0</td>\n",
       "      <td>7.0</td>\n",
       "      <td>Open</td>\n",
       "      <td>Natural</td>\n",
       "      <td>76.0</td>\n",
       "      <td>Partly Cloudy</td>\n",
       "      <td>Punt</td>\n",
       "      <td>26.0</td>\n",
       "      <td>OLB</td>\n",
       "      <td>LB</td>\n",
       "    </tr>\n",
       "    <tr>\n",
       "      <th>2</th>\n",
       "      <td>36557</td>\n",
       "      <td>36557-1</td>\n",
       "      <td>36557-1-70</td>\n",
       "      <td>Ankle</td>\n",
       "      <td>Synthetic</td>\n",
       "      <td>1</td>\n",
       "      <td>1</td>\n",
       "      <td>1</td>\n",
       "      <td>1</td>\n",
       "      <td>Safety</td>\n",
       "      <td>1.0</td>\n",
       "      <td>1.0</td>\n",
       "      <td>Outdoor</td>\n",
       "      <td>Synthetic</td>\n",
       "      <td>63.0</td>\n",
       "      <td>Clear and warm</td>\n",
       "      <td>Pass</td>\n",
       "      <td>70.0</td>\n",
       "      <td>SS</td>\n",
       "      <td>DB</td>\n",
       "    </tr>\n",
       "    <tr>\n",
       "      <th>3</th>\n",
       "      <td>46646</td>\n",
       "      <td>46646-3</td>\n",
       "      <td>46646-3-30</td>\n",
       "      <td>Ankle</td>\n",
       "      <td>Natural</td>\n",
       "      <td>1</td>\n",
       "      <td>0</td>\n",
       "      <td>0</td>\n",
       "      <td>0</td>\n",
       "      <td>Linebacker</td>\n",
       "      <td>15.0</td>\n",
       "      <td>3.0</td>\n",
       "      <td>Outdoor</td>\n",
       "      <td>Natural</td>\n",
       "      <td>80.0</td>\n",
       "      <td>Cloudy</td>\n",
       "      <td>Punt</td>\n",
       "      <td>30.0</td>\n",
       "      <td>LB</td>\n",
       "      <td>LB</td>\n",
       "    </tr>\n",
       "    <tr>\n",
       "      <th>4</th>\n",
       "      <td>43532</td>\n",
       "      <td>43532-5</td>\n",
       "      <td>43532-5-69</td>\n",
       "      <td>Ankle</td>\n",
       "      <td>Synthetic</td>\n",
       "      <td>1</td>\n",
       "      <td>1</td>\n",
       "      <td>1</td>\n",
       "      <td>1</td>\n",
       "      <td>Wide Receiver</td>\n",
       "      <td>32.0</td>\n",
       "      <td>5.0</td>\n",
       "      <td>Retractable Roof</td>\n",
       "      <td>Synthetic</td>\n",
       "      <td>89.0</td>\n",
       "      <td>Partly Cloudy</td>\n",
       "      <td>Kickoff</td>\n",
       "      <td>69.0</td>\n",
       "      <td>WR</td>\n",
       "      <td>WR</td>\n",
       "    </tr>\n",
       "  </tbody>\n",
       "</table>\n",
       "</div>"
      ],
      "text/plain": [
       "   PlayerKey   GameID     PlayKey BodyPart    Surface  DM_M1  DM_M7  DM_M28  \\\n",
       "0      39873  39873-4  39873-4-32     Knee  Synthetic      1      1       1   \n",
       "1      46074  46074-7  46074-7-26     Knee    Natural      1      1       0   \n",
       "2      36557  36557-1  36557-1-70    Ankle  Synthetic      1      1       1   \n",
       "3      46646  46646-3  46646-3-30    Ankle    Natural      1      0       0   \n",
       "4      43532  43532-5  43532-5-69    Ankle  Synthetic      1      1       1   \n",
       "\n",
       "   DM_M42 RosterPosition  PlayerDay  PlayerGame       StadiumType  FieldType  \\\n",
       "0       1     Linebacker       29.0         4.0           Indoors  Synthetic   \n",
       "1       0     Linebacker       50.0         7.0              Open    Natural   \n",
       "2       1         Safety        1.0         1.0           Outdoor  Synthetic   \n",
       "3       0     Linebacker       15.0         3.0           Outdoor    Natural   \n",
       "4       1  Wide Receiver       32.0         5.0  Retractable Roof  Synthetic   \n",
       "\n",
       "   Temperature         Weather PlayType  PlayerGamePlay Position PositionGroup  \n",
       "0         84.0          Cloudy     Punt            32.0      OLB            LB  \n",
       "1         76.0   Partly Cloudy     Punt            26.0      OLB            LB  \n",
       "2         63.0  Clear and warm     Pass            70.0       SS            DB  \n",
       "3         80.0          Cloudy     Punt            30.0       LB            LB  \n",
       "4         89.0   Partly Cloudy  Kickoff            69.0       WR            WR  "
      ]
     },
     "execution_count": 7,
     "metadata": {},
     "output_type": "execute_result"
    }
   ],
   "source": [
    "inj_nat_play = pd.merge(inj_natural,\n",
    "                 playlist,\n",
    "                 on=['PlayerKey', 'GameID', 'PlayKey'],\n",
    "                       how='left')\n",
    "inj_tur_play = pd.merge(inj_turf,\n",
    "                 playlist,\n",
    "                 on=['PlayerKey', 'GameID', 'PlayKey'],\n",
    "                       how ='left')\n",
    "\n",
    "inj_play = pd.merge(injuries,\n",
    "                 playlist,\n",
    "                 on=['PlayerKey', 'GameID', 'PlayKey'],\n",
    "                       how ='left')\n",
    "\n",
    "inj_play_enc = pd.concat([inj_play,pd.get_dummies(inj_play['BodyPart'], prefix='part'), pd.get_dummies(inj_play['RosterPosition'], prefix='pos')],axis=1)\n",
    "\n",
    "inj_play.head()\n",
    "\n",
    "\n",
    "#put NAN play key into separate file then join with attributes"
   ]
  },
  {
   "cell_type": "code",
   "execution_count": 8,
   "id": "567148ec",
   "metadata": {
    "execution": {
     "iopub.execute_input": "2023-03-09T13:22:57.941107Z",
     "iopub.status.busy": "2023-03-09T13:22:57.939952Z",
     "iopub.status.idle": "2023-03-09T13:22:57.950840Z",
     "shell.execute_reply": "2023-03-09T13:22:57.949807Z"
    },
    "papermill": {
     "duration": 0.02476,
     "end_time": "2023-03-09T13:22:57.953580",
     "exception": false,
     "start_time": "2023-03-09T13:22:57.928820",
     "status": "completed"
    },
    "tags": []
   },
   "outputs": [
    {
     "data": {
      "text/plain": [
       "1    105\n",
       "Name: DM_M1, dtype: int64"
      ]
     },
     "execution_count": 8,
     "metadata": {},
     "output_type": "execute_result"
    }
   ],
   "source": [
    "injuries['DM_M1'].value_counts()"
   ]
  },
  {
   "cell_type": "code",
   "execution_count": 9,
   "id": "0ffa3c10",
   "metadata": {
    "execution": {
     "iopub.execute_input": "2023-03-09T13:22:57.976941Z",
     "iopub.status.busy": "2023-03-09T13:22:57.976515Z",
     "iopub.status.idle": "2023-03-09T13:22:57.985617Z",
     "shell.execute_reply": "2023-03-09T13:22:57.984303Z"
    },
    "papermill": {
     "duration": 0.02361,
     "end_time": "2023-03-09T13:22:57.987994",
     "exception": false,
     "start_time": "2023-03-09T13:22:57.964384",
     "status": "completed"
    },
    "tags": []
   },
   "outputs": [
    {
     "data": {
      "text/plain": [
       "1    76\n",
       "0    29\n",
       "Name: DM_M7, dtype: int64"
      ]
     },
     "execution_count": 9,
     "metadata": {},
     "output_type": "execute_result"
    }
   ],
   "source": [
    "injuries['DM_M7'].value_counts()"
   ]
  },
  {
   "cell_type": "code",
   "execution_count": 10,
   "id": "0fab2466",
   "metadata": {
    "execution": {
     "iopub.execute_input": "2023-03-09T13:22:58.012048Z",
     "iopub.status.busy": "2023-03-09T13:22:58.011256Z",
     "iopub.status.idle": "2023-03-09T13:22:58.019270Z",
     "shell.execute_reply": "2023-03-09T13:22:58.018277Z"
    },
    "papermill": {
     "duration": 0.022836,
     "end_time": "2023-03-09T13:22:58.021723",
     "exception": false,
     "start_time": "2023-03-09T13:22:57.998887",
     "status": "completed"
    },
    "tags": []
   },
   "outputs": [
    {
     "data": {
      "text/plain": [
       "0    68\n",
       "1    37\n",
       "Name: DM_M28, dtype: int64"
      ]
     },
     "execution_count": 10,
     "metadata": {},
     "output_type": "execute_result"
    }
   ],
   "source": [
    "injuries['DM_M28'].value_counts()"
   ]
  },
  {
   "cell_type": "code",
   "execution_count": 11,
   "id": "e5e57df9",
   "metadata": {
    "execution": {
     "iopub.execute_input": "2023-03-09T13:22:58.045524Z",
     "iopub.status.busy": "2023-03-09T13:22:58.045092Z",
     "iopub.status.idle": "2023-03-09T13:22:58.053615Z",
     "shell.execute_reply": "2023-03-09T13:22:58.052461Z"
    },
    "papermill": {
     "duration": 0.023292,
     "end_time": "2023-03-09T13:22:58.056077",
     "exception": false,
     "start_time": "2023-03-09T13:22:58.032785",
     "status": "completed"
    },
    "tags": []
   },
   "outputs": [
    {
     "data": {
      "text/plain": [
       "0    76\n",
       "1    29\n",
       "Name: DM_M42, dtype: int64"
      ]
     },
     "execution_count": 11,
     "metadata": {},
     "output_type": "execute_result"
    }
   ],
   "source": [
    "injuries['DM_M42'].value_counts()"
   ]
  },
  {
   "cell_type": "code",
   "execution_count": 12,
   "id": "6d828828",
   "metadata": {
    "execution": {
     "iopub.execute_input": "2023-03-09T13:22:58.081293Z",
     "iopub.status.busy": "2023-03-09T13:22:58.079831Z",
     "iopub.status.idle": "2023-03-09T13:22:58.106418Z",
     "shell.execute_reply": "2023-03-09T13:22:58.105091Z"
    },
    "papermill": {
     "duration": 0.0421,
     "end_time": "2023-03-09T13:22:58.109501",
     "exception": false,
     "start_time": "2023-03-09T13:22:58.067401",
     "status": "completed"
    },
    "tags": []
   },
   "outputs": [
    {
     "data": {
      "text/plain": [
       "Outdoor                   145032\n",
       "Outdoors                   32956\n",
       "Indoors                    22805\n",
       "Dome                        9376\n",
       "Retractable Roof            8914\n",
       "Indoor                      6892\n",
       "Open                        4124\n",
       "Domed, closed               3076\n",
       "Retr. Roof - Closed         2235\n",
       "Retr. Roof-Closed           2015\n",
       "Domed, open                 1779\n",
       "Dome, closed                1059\n",
       "Closed Dome                 1011\n",
       "Domed                        985\n",
       "Oudoor                       914\n",
       "Domed, Open                  807\n",
       "Ourdoor                      778\n",
       "Outdoor Retr Roof-Open       601\n",
       "Outddors                     595\n",
       "Indoor, Roof Closed          547\n",
       "Retr. Roof-Open              486\n",
       "Retr. Roof - Open            486\n",
       "Indoor, Open Roof            479\n",
       "Bowl                         465\n",
       "Retr. Roof Closed            414\n",
       "Heinz Field                  389\n",
       "Outdor                       356\n",
       "Outside                      341\n",
       "Cloudy                       178\n",
       "Name: StadiumType, dtype: int64"
      ]
     },
     "execution_count": 12,
     "metadata": {},
     "output_type": "execute_result"
    }
   ],
   "source": [
    "playlist['StadiumType'].value_counts()"
   ]
  },
  {
   "cell_type": "code",
   "execution_count": 13,
   "id": "98222f1a",
   "metadata": {
    "execution": {
     "iopub.execute_input": "2023-03-09T13:22:58.134290Z",
     "iopub.status.busy": "2023-03-09T13:22:58.133587Z",
     "iopub.status.idle": "2023-03-09T13:22:58.160457Z",
     "shell.execute_reply": "2023-03-09T13:22:58.159073Z"
    },
    "papermill": {
     "duration": 0.042234,
     "end_time": "2023-03-09T13:22:58.163150",
     "exception": false,
     "start_time": "2023-03-09T13:22:58.120916",
     "status": "completed"
    },
    "tags": []
   },
   "outputs": [
    {
     "data": {
      "text/plain": [
       "Cloudy                                                                              60705\n",
       "Sunny                                                                               51728\n",
       "Partly Cloudy                                                                       28463\n",
       "Clear                                                                               25923\n",
       "Mostly Cloudy                                                                       11176\n",
       "                                                                                    ...  \n",
       "30% Chance of Rain                                                                    354\n",
       "Partly Clouidy                                                                        302\n",
       "Coudy                                                                                 278\n",
       "Cloudy with periods of rain, thunder possible. Winds shifting to WNW, 10-20 mph.      246\n",
       "Party Cloudy                                                                          230\n",
       "Name: Weather, Length: 63, dtype: int64"
      ]
     },
     "execution_count": 13,
     "metadata": {},
     "output_type": "execute_result"
    }
   ],
   "source": [
    "playlist['Weather'].value_counts()"
   ]
  },
  {
   "cell_type": "code",
   "execution_count": 14,
   "id": "1cb2e7ca",
   "metadata": {
    "execution": {
     "iopub.execute_input": "2023-03-09T13:22:58.188684Z",
     "iopub.status.busy": "2023-03-09T13:22:58.187656Z",
     "iopub.status.idle": "2023-03-09T13:22:59.420957Z",
     "shell.execute_reply": "2023-03-09T13:22:59.419467Z"
    },
    "papermill": {
     "duration": 1.249291,
     "end_time": "2023-03-09T13:22:59.424169",
     "exception": false,
     "start_time": "2023-03-09T13:22:58.174878",
     "status": "completed"
    },
    "tags": []
   },
   "outputs": [],
   "source": [
    "m_inju_play=pd.merge(playlist,injuries,on='PlayKey',how='left')\n",
    "m_inju_play['Injury'] = m_inju_play['BodyPart'].apply(lambda x: 1 if x in ['Knee','Foot','Ankle']  else 0)\n",
    "\n",
    "m_inju_play_agg=m_inju_play[['StadiumType','FieldType','Weather','Injury', 'PlayType', 'Position', 'PlayerDay', 'Temperature']]\n",
    "#Change weather to 1 and 0\n",
    "m_inju_play_agg['Weather']=m_inju_play_agg.Weather.isin(['rain','Rain','Snow','snow'])\n",
    "m_inju_play_agg['Weather'] = m_inju_play_agg['Weather'].apply(lambda x: 1 if x== True  else 0)\n",
    "\n",
    "m_inju_play_agg['StadiumType']=m_inju_play_agg.StadiumType.isin(['Outdoor','Oudoor','Open','Ourdoor','Out','open'])\n",
    "m_inju_play_agg['StadiumType'] = m_inju_play_agg['StadiumType'].apply(lambda x: 1 if x== True  else 0)\n",
    "\n",
    "m_inju_play_agg['FieldType']=m_inju_play_agg.FieldType.isin(['Natural'])\n",
    "m_inju_play_agg['FieldType'] = m_inju_play_agg['FieldType'].apply(lambda x: 1 if x== True  else 0)\n",
    "\n",
    "m_inju_play_agg.PlayType = pd.Categorical(m_inju_play_agg.PlayType)\n",
    "m_inju_play_agg['PlayType_c'] = m_inju_play_agg.PlayType.cat.codes\n",
    "\n",
    "m_inju_play_agg.Position = pd.Categorical(m_inju_play_agg.Position)\n",
    "m_inju_play_agg['Position_c'] = m_inju_play_agg.Position.cat.codes\n",
    "\n",
    "#Now we are going to multiplicate the StadiumType Variable with the Weather because the weather doesnt matter if the match is played on a closed stadium\n",
    "\n",
    "m_inju_play_agg['Multiplication']=m_inju_play_agg['StadiumType']*m_inju_play_agg['Weather']"
   ]
  },
  {
   "cell_type": "code",
   "execution_count": 15,
   "id": "518dc479",
   "metadata": {
    "execution": {
     "iopub.execute_input": "2023-03-09T13:22:59.449940Z",
     "iopub.status.busy": "2023-03-09T13:22:59.448863Z",
     "iopub.status.idle": "2023-03-09T13:22:59.468689Z",
     "shell.execute_reply": "2023-03-09T13:22:59.467392Z"
    },
    "papermill": {
     "duration": 0.03579,
     "end_time": "2023-03-09T13:22:59.471689",
     "exception": false,
     "start_time": "2023-03-09T13:22:59.435899",
     "status": "completed"
    },
    "tags": []
   },
   "outputs": [
    {
     "data": {
      "text/html": [
       "<div>\n",
       "<style scoped>\n",
       "    .dataframe tbody tr th:only-of-type {\n",
       "        vertical-align: middle;\n",
       "    }\n",
       "\n",
       "    .dataframe tbody tr th {\n",
       "        vertical-align: top;\n",
       "    }\n",
       "\n",
       "    .dataframe thead th {\n",
       "        text-align: right;\n",
       "    }\n",
       "</style>\n",
       "<table border=\"1\" class=\"dataframe\">\n",
       "  <thead>\n",
       "    <tr style=\"text-align: right;\">\n",
       "      <th></th>\n",
       "      <th>StadiumType</th>\n",
       "      <th>FieldType</th>\n",
       "      <th>Weather</th>\n",
       "      <th>Injury</th>\n",
       "      <th>PlayType</th>\n",
       "      <th>Position</th>\n",
       "      <th>PlayerDay</th>\n",
       "      <th>Temperature</th>\n",
       "      <th>PlayType_c</th>\n",
       "      <th>Position_c</th>\n",
       "      <th>Multiplication</th>\n",
       "    </tr>\n",
       "  </thead>\n",
       "  <tbody>\n",
       "    <tr>\n",
       "      <th>0</th>\n",
       "      <td>1</td>\n",
       "      <td>0</td>\n",
       "      <td>0</td>\n",
       "      <td>0</td>\n",
       "      <td>Pass</td>\n",
       "      <td>QB</td>\n",
       "      <td>1</td>\n",
       "      <td>63</td>\n",
       "      <td>6</td>\n",
       "      <td>16</td>\n",
       "      <td>0</td>\n",
       "    </tr>\n",
       "    <tr>\n",
       "      <th>1</th>\n",
       "      <td>1</td>\n",
       "      <td>0</td>\n",
       "      <td>0</td>\n",
       "      <td>0</td>\n",
       "      <td>Pass</td>\n",
       "      <td>QB</td>\n",
       "      <td>1</td>\n",
       "      <td>63</td>\n",
       "      <td>6</td>\n",
       "      <td>16</td>\n",
       "      <td>0</td>\n",
       "    </tr>\n",
       "    <tr>\n",
       "      <th>2</th>\n",
       "      <td>1</td>\n",
       "      <td>0</td>\n",
       "      <td>0</td>\n",
       "      <td>0</td>\n",
       "      <td>Rush</td>\n",
       "      <td>QB</td>\n",
       "      <td>1</td>\n",
       "      <td>63</td>\n",
       "      <td>10</td>\n",
       "      <td>16</td>\n",
       "      <td>0</td>\n",
       "    </tr>\n",
       "    <tr>\n",
       "      <th>3</th>\n",
       "      <td>1</td>\n",
       "      <td>0</td>\n",
       "      <td>0</td>\n",
       "      <td>0</td>\n",
       "      <td>Rush</td>\n",
       "      <td>QB</td>\n",
       "      <td>1</td>\n",
       "      <td>63</td>\n",
       "      <td>10</td>\n",
       "      <td>16</td>\n",
       "      <td>0</td>\n",
       "    </tr>\n",
       "    <tr>\n",
       "      <th>4</th>\n",
       "      <td>1</td>\n",
       "      <td>0</td>\n",
       "      <td>0</td>\n",
       "      <td>0</td>\n",
       "      <td>Pass</td>\n",
       "      <td>QB</td>\n",
       "      <td>1</td>\n",
       "      <td>63</td>\n",
       "      <td>6</td>\n",
       "      <td>16</td>\n",
       "      <td>0</td>\n",
       "    </tr>\n",
       "  </tbody>\n",
       "</table>\n",
       "</div>"
      ],
      "text/plain": [
       "   StadiumType  FieldType  Weather  Injury PlayType Position  PlayerDay  \\\n",
       "0            1          0        0       0     Pass       QB          1   \n",
       "1            1          0        0       0     Pass       QB          1   \n",
       "2            1          0        0       0     Rush       QB          1   \n",
       "3            1          0        0       0     Rush       QB          1   \n",
       "4            1          0        0       0     Pass       QB          1   \n",
       "\n",
       "   Temperature  PlayType_c  Position_c  Multiplication  \n",
       "0           63           6          16               0  \n",
       "1           63           6          16               0  \n",
       "2           63          10          16               0  \n",
       "3           63          10          16               0  \n",
       "4           63           6          16               0  "
      ]
     },
     "execution_count": 15,
     "metadata": {},
     "output_type": "execute_result"
    }
   ],
   "source": [
    "m_inju_play_agg.head()"
   ]
  },
  {
   "cell_type": "markdown",
   "id": "1dc8c17b",
   "metadata": {
    "papermill": {
     "duration": 0.012053,
     "end_time": "2023-03-09T13:22:59.495813",
     "exception": false,
     "start_time": "2023-03-09T13:22:59.483760",
     "status": "completed"
    },
    "tags": []
   },
   "source": [
    "# EDA"
   ]
  },
  {
   "cell_type": "markdown",
   "id": "dcd6e18d",
   "metadata": {
    "papermill": {
     "duration": 0.01136,
     "end_time": "2023-03-09T13:22:59.519125",
     "exception": false,
     "start_time": "2023-03-09T13:22:59.507765",
     "status": "completed"
    },
    "tags": []
   },
   "source": [
    "# Body Part"
   ]
  },
  {
   "cell_type": "code",
   "execution_count": 16,
   "id": "41f59fd8",
   "metadata": {
    "execution": {
     "iopub.execute_input": "2023-03-09T13:22:59.545031Z",
     "iopub.status.busy": "2023-03-09T13:22:59.543872Z",
     "iopub.status.idle": "2023-03-09T13:22:59.838792Z",
     "shell.execute_reply": "2023-03-09T13:22:59.837356Z"
    },
    "papermill": {
     "duration": 0.310973,
     "end_time": "2023-03-09T13:22:59.841566",
     "exception": false,
     "start_time": "2023-03-09T13:22:59.530593",
     "status": "completed"
    },
    "tags": []
   },
   "outputs": [
    {
     "data": {
      "text/plain": [
       "<AxesSubplot:xlabel='BodyPart', ylabel='count'>"
      ]
     },
     "execution_count": 16,
     "metadata": {},
     "output_type": "execute_result"
    },
    {
     "data": {
      "image/png": "[encoded data removed]",
      "text/plain": [
       "<Figure size 640x480 with 1 Axes>"
      ]
     },
     "metadata": {},
     "output_type": "display_data"
    }
   ],
   "source": [
    "sns.countplot(data = inj_play, x='BodyPart', hue = 'Surface')"
   ]
  },
  {
   "cell_type": "markdown",
   "id": "d76cff42",
   "metadata": {
    "papermill": {
     "duration": 0.011731,
     "end_time": "2023-03-09T13:22:59.865742",
     "exception": false,
     "start_time": "2023-03-09T13:22:59.854011",
     "status": "completed"
    },
    "tags": []
   },
   "source": [
    "# Roster Position"
   ]
  },
  {
   "cell_type": "code",
   "execution_count": 17,
   "id": "75be8c11",
   "metadata": {
    "execution": {
     "iopub.execute_input": "2023-03-09T13:22:59.892071Z",
     "iopub.status.busy": "2023-03-09T13:22:59.891573Z",
     "iopub.status.idle": "2023-03-09T13:23:00.238915Z",
     "shell.execute_reply": "2023-03-09T13:23:00.237660Z"
    },
    "papermill": {
     "duration": 0.363771,
     "end_time": "2023-03-09T13:23:00.241673",
     "exception": false,
     "start_time": "2023-03-09T13:22:59.877902",
     "status": "completed"
    },
    "tags": []
   },
   "outputs": [
    {
     "data": {
      "text/plain": [
       "<AxesSubplot:xlabel='RosterPosition', ylabel='count'>"
      ]
     },
     "execution_count": 17,
     "metadata": {},
     "output_type": "execute_result"
    },
    {
     "data": {
      "image/png": "[encoded data removed]",
      "text/plain": [
       "<Figure size 1600x600 with 1 Axes>"
      ]
     },
     "metadata": {},
     "output_type": "display_data"
    }
   ],
   "source": [
    "plt.figure(figsize=(16,6))\n",
    "sns.countplot(data=inj_play, x='RosterPosition', hue='Surface')"
   ]
  },
  {
   "cell_type": "code",
   "execution_count": 18,
   "id": "32bddd06",
   "metadata": {
    "execution": {
     "iopub.execute_input": "2023-03-09T13:23:00.268569Z",
     "iopub.status.busy": "2023-03-09T13:23:00.267238Z",
     "iopub.status.idle": "2023-03-09T13:23:00.615277Z",
     "shell.execute_reply": "2023-03-09T13:23:00.613908Z"
    },
    "papermill": {
     "duration": 0.364019,
     "end_time": "2023-03-09T13:23:00.617851",
     "exception": false,
     "start_time": "2023-03-09T13:23:00.253832",
     "status": "completed"
    },
    "tags": []
   },
   "outputs": [
    {
     "data": {
      "text/plain": [
       "<AxesSubplot:xlabel='PositionGroup', ylabel='count'>"
      ]
     },
     "execution_count": 18,
     "metadata": {},
     "output_type": "execute_result"
    },
    {
     "data": {
      "image/png": "[encoded data removed]",
      "text/plain": [
       "<Figure size 1600x600 with 1 Axes>"
      ]
     },
     "metadata": {},
     "output_type": "display_data"
    }
   ],
   "source": [
    "plt.figure(figsize=(16,6))\n",
    "sns.countplot(data=inj_play, x='PositionGroup', hue='Surface')"
   ]
  },
  {
   "cell_type": "code",
   "execution_count": 19,
   "id": "ac9b2ac8",
   "metadata": {
    "execution": {
     "iopub.execute_input": "2023-03-09T13:23:00.648918Z",
     "iopub.status.busy": "2023-03-09T13:23:00.648043Z",
     "iopub.status.idle": "2023-03-09T13:23:01.052222Z",
     "shell.execute_reply": "2023-03-09T13:23:01.050792Z"
    },
    "papermill": {
     "duration": 0.422734,
     "end_time": "2023-03-09T13:23:01.055294",
     "exception": false,
     "start_time": "2023-03-09T13:23:00.632560",
     "status": "completed"
    },
    "tags": []
   },
   "outputs": [
    {
     "data": {
      "text/plain": [
       "<AxesSubplot:xlabel='PlayType', ylabel='count'>"
      ]
     },
     "execution_count": 19,
     "metadata": {},
     "output_type": "execute_result"
    },
    {
     "data": {
      "image/png": "[encoded data removed]",
      "text/plain": [
       "<Figure size 1600x600 with 1 Axes>"
      ]
     },
     "metadata": {},
     "output_type": "display_data"
    }
   ],
   "source": [
    "plt.figure(figsize=(16,6))\n",
    "sns.countplot(data=inj_play, x='PlayType', hue='Surface')"
   ]
  },
  {
   "cell_type": "code",
   "execution_count": 20,
   "id": "fee4f272",
   "metadata": {
    "execution": {
     "iopub.execute_input": "2023-03-09T13:23:01.084842Z",
     "iopub.status.busy": "2023-03-09T13:23:01.083922Z",
     "iopub.status.idle": "2023-03-09T13:23:01.352087Z",
     "shell.execute_reply": "2023-03-09T13:23:01.350661Z"
    },
    "papermill": {
     "duration": 0.285226,
     "end_time": "2023-03-09T13:23:01.354725",
     "exception": false,
     "start_time": "2023-03-09T13:23:01.069499",
     "status": "completed"
    },
    "tags": []
   },
   "outputs": [
    {
     "data": {
      "text/plain": [
       "<AxesSubplot:xlabel='DM_M7', ylabel='count'>"
      ]
     },
     "execution_count": 20,
     "metadata": {},
     "output_type": "execute_result"
    },
    {
     "data": {
      "image/png": "[encoded data removed]",
      "text/plain": [
       "<Figure size 1600x600 with 1 Axes>"
      ]
     },
     "metadata": {},
     "output_type": "display_data"
    }
   ],
   "source": [
    "plt.figure(figsize=(16,6))\n",
    "sns.countplot(data=inj_play, x='DM_M7', hue='Surface')"
   ]
  },
  {
   "cell_type": "code",
   "execution_count": 21,
   "id": "d1106493",
   "metadata": {
    "execution": {
     "iopub.execute_input": "2023-03-09T13:23:01.383776Z",
     "iopub.status.busy": "2023-03-09T13:23:01.382648Z",
     "iopub.status.idle": "2023-03-09T13:23:01.645087Z",
     "shell.execute_reply": "2023-03-09T13:23:01.643755Z"
    },
    "papermill": {
     "duration": 0.279693,
     "end_time": "2023-03-09T13:23:01.647753",
     "exception": false,
     "start_time": "2023-03-09T13:23:01.368060",
     "status": "completed"
    },
    "tags": []
   },
   "outputs": [
    {
     "data": {
      "text/plain": [
       "<AxesSubplot:xlabel='DM_M28', ylabel='count'>"
      ]
     },
     "execution_count": 21,
     "metadata": {},
     "output_type": "execute_result"
    },
    {
     "data": {
      "image/png": "[encoded data removed]",
      "text/plain": [
       "<Figure size 1600x600 with 1 Axes>"
      ]
     },
     "metadata": {},
     "output_type": "display_data"
    }
   ],
   "source": [
    "plt.figure(figsize=(16,6))\n",
    "sns.countplot(data=inj_play, x='DM_M28', hue='Surface')"
   ]
  },
  {
   "cell_type": "code",
   "execution_count": 22,
   "id": "0c03909d",
   "metadata": {
    "execution": {
     "iopub.execute_input": "2023-03-09T13:23:01.679145Z",
     "iopub.status.busy": "2023-03-09T13:23:01.678281Z",
     "iopub.status.idle": "2023-03-09T13:23:01.948315Z",
     "shell.execute_reply": "2023-03-09T13:23:01.947055Z"
    },
    "papermill": {
     "duration": 0.288769,
     "end_time": "2023-03-09T13:23:01.951119",
     "exception": false,
     "start_time": "2023-03-09T13:23:01.662350",
     "status": "completed"
    },
    "tags": []
   },
   "outputs": [
    {
     "data": {
      "text/plain": [
       "<AxesSubplot:xlabel='DM_M42', ylabel='count'>"
      ]
     },
     "execution_count": 22,
     "metadata": {},
     "output_type": "execute_result"
    },
    {
     "data": {
      "image/png": "[encoded data removed]",
      "text/plain": [
       "<Figure size 1600x600 with 1 Axes>"
      ]
     },
     "metadata": {},
     "output_type": "display_data"
    }
   ],
   "source": [
    "plt.figure(figsize=(16,6))\n",
    "sns.countplot(data=inj_play, x='DM_M42', hue='Surface')"
   ]
  },
  {
   "cell_type": "code",
   "execution_count": 23,
   "id": "4d48b42e",
   "metadata": {
    "execution": {
     "iopub.execute_input": "2023-03-09T13:23:01.986750Z",
     "iopub.status.busy": "2023-03-09T13:23:01.985499Z",
     "iopub.status.idle": "2023-03-09T13:23:02.516837Z",
     "shell.execute_reply": "2023-03-09T13:23:02.515485Z"
    },
    "papermill": {
     "duration": 0.552007,
     "end_time": "2023-03-09T13:23:02.519703",
     "exception": false,
     "start_time": "2023-03-09T13:23:01.967696",
     "status": "completed"
    },
    "tags": []
   },
   "outputs": [
    {
     "data": {
      "text/plain": [
       "<AxesSubplot:xlabel='Weather', ylabel='count'>"
      ]
     },
     "execution_count": 23,
     "metadata": {},
     "output_type": "execute_result"
    },
    {
     "data": {
      "image/png": "[encoded data removed]",
      "text/plain": [
       "<Figure size 1600x600 with 1 Axes>"
      ]
     },
     "metadata": {},
     "output_type": "display_data"
    }
   ],
   "source": [
    "plt.figure(figsize=(16,6))\n",
    "sns.countplot(data=inj_play, x='Weather', hue='Surface')"
   ]
  },
  {
   "cell_type": "code",
   "execution_count": 24,
   "id": "ac8008ab",
   "metadata": {
    "execution": {
     "iopub.execute_input": "2023-03-09T13:23:02.557567Z",
     "iopub.status.busy": "2023-03-09T13:23:02.557106Z",
     "iopub.status.idle": "2023-03-09T13:23:02.998421Z",
     "shell.execute_reply": "2023-03-09T13:23:02.997226Z"
    },
    "papermill": {
     "duration": 0.46304,
     "end_time": "2023-03-09T13:23:03.001243",
     "exception": false,
     "start_time": "2023-03-09T13:23:02.538203",
     "status": "completed"
    },
    "tags": []
   },
   "outputs": [
    {
     "data": {
      "text/plain": [
       "<AxesSubplot:xlabel='StadiumType', ylabel='count'>"
      ]
     },
     "execution_count": 24,
     "metadata": {},
     "output_type": "execute_result"
    },
    {
     "data": {
      "image/png": "[encoded data removed]",
      "text/plain": [
       "<Figure size 1600x600 with 1 Axes>"
      ]
     },
     "metadata": {},
     "output_type": "display_data"
    }
   ],
   "source": [
    "plt.figure(figsize=(16,6))\n",
    "sns.countplot(data=inj_play, x='StadiumType', hue = 'Surface')"
   ]
  },
  {
   "cell_type": "markdown",
   "id": "e81fc25a",
   "metadata": {
    "papermill": {
     "duration": 0.014821,
     "end_time": "2023-03-09T13:23:03.031387",
     "exception": false,
     "start_time": "2023-03-09T13:23:03.016566",
     "status": "completed"
    },
    "tags": []
   },
   "source": [
    "Are there certain stadiums where they are occurng more than others?\n",
    "\n",
    "What body parts are being injured by position? and by surface?"
   ]
  },
  {
   "cell_type": "code",
   "execution_count": 25,
   "id": "495b1e5e",
   "metadata": {
    "execution": {
     "iopub.execute_input": "2023-03-09T13:23:03.064279Z",
     "iopub.status.busy": "2023-03-09T13:23:03.063399Z",
     "iopub.status.idle": "2023-03-09T13:23:03.525879Z",
     "shell.execute_reply": "2023-03-09T13:23:03.524677Z"
    },
    "papermill": {
     "duration": 0.482149,
     "end_time": "2023-03-09T13:23:03.528750",
     "exception": false,
     "start_time": "2023-03-09T13:23:03.046601",
     "status": "completed"
    },
    "tags": []
   },
   "outputs": [
    {
     "data": {
      "text/plain": [
       "<AxesSubplot:xlabel='PositionGroup', ylabel='count'>"
      ]
     },
     "execution_count": 25,
     "metadata": {},
     "output_type": "execute_result"
    },
    {
     "data": {
      "image/png": "[encoded data removed]",
      "text/plain": [
       "<Figure size 1600x600 with 1 Axes>"
      ]
     },
     "metadata": {},
     "output_type": "display_data"
    }
   ],
   "source": [
    "plt.figure(figsize=(16,6))\n",
    "sns.countplot(data=inj_play, x='PositionGroup', hue='BodyPart')"
   ]
  },
  {
   "cell_type": "code",
   "execution_count": 26,
   "id": "f407be08",
   "metadata": {
    "execution": {
     "iopub.execute_input": "2023-03-09T13:23:03.562950Z",
     "iopub.status.busy": "2023-03-09T13:23:03.562034Z",
     "iopub.status.idle": "2023-03-09T13:23:03.589653Z",
     "shell.execute_reply": "2023-03-09T13:23:03.588168Z"
    },
    "papermill": {
     "duration": 0.048555,
     "end_time": "2023-03-09T13:23:03.593159",
     "exception": false,
     "start_time": "2023-03-09T13:23:03.544604",
     "status": "completed"
    },
    "tags": []
   },
   "outputs": [
    {
     "data": {
      "text/html": [
       "<div>\n",
       "<style scoped>\n",
       "    .dataframe tbody tr th:only-of-type {\n",
       "        vertical-align: middle;\n",
       "    }\n",
       "\n",
       "    .dataframe tbody tr th {\n",
       "        vertical-align: top;\n",
       "    }\n",
       "\n",
       "    .dataframe thead th {\n",
       "        text-align: right;\n",
       "    }\n",
       "</style>\n",
       "<table border=\"1\" class=\"dataframe\">\n",
       "  <thead>\n",
       "    <tr style=\"text-align: right;\">\n",
       "      <th></th>\n",
       "      <th>PlayerKey</th>\n",
       "      <th>GameID</th>\n",
       "      <th>PlayKey</th>\n",
       "      <th>BodyPart</th>\n",
       "      <th>Surface</th>\n",
       "      <th>DM_M1</th>\n",
       "      <th>DM_M7</th>\n",
       "      <th>DM_M28</th>\n",
       "      <th>DM_M42</th>\n",
       "      <th>RosterPosition</th>\n",
       "      <th>PlayerDay</th>\n",
       "      <th>PlayerGame</th>\n",
       "      <th>StadiumType</th>\n",
       "      <th>FieldType</th>\n",
       "      <th>Temperature</th>\n",
       "      <th>Weather</th>\n",
       "      <th>PlayType</th>\n",
       "      <th>PlayerGamePlay</th>\n",
       "      <th>Position</th>\n",
       "      <th>PositionGroup</th>\n",
       "    </tr>\n",
       "  </thead>\n",
       "  <tbody>\n",
       "    <tr>\n",
       "      <th>49</th>\n",
       "      <td>45950</td>\n",
       "      <td>45950-6</td>\n",
       "      <td>NaN</td>\n",
       "      <td>Toes</td>\n",
       "      <td>Synthetic</td>\n",
       "      <td>1</td>\n",
       "      <td>1</td>\n",
       "      <td>0</td>\n",
       "      <td>0</td>\n",
       "      <td>NaN</td>\n",
       "      <td>NaN</td>\n",
       "      <td>NaN</td>\n",
       "      <td>NaN</td>\n",
       "      <td>NaN</td>\n",
       "      <td>NaN</td>\n",
       "      <td>NaN</td>\n",
       "      <td>NaN</td>\n",
       "      <td>NaN</td>\n",
       "      <td>NaN</td>\n",
       "      <td>NaN</td>\n",
       "    </tr>\n",
       "    <tr>\n",
       "      <th>51</th>\n",
       "      <td>38253</td>\n",
       "      <td>38253-10</td>\n",
       "      <td>NaN</td>\n",
       "      <td>Toes</td>\n",
       "      <td>Synthetic</td>\n",
       "      <td>1</td>\n",
       "      <td>1</td>\n",
       "      <td>1</td>\n",
       "      <td>0</td>\n",
       "      <td>NaN</td>\n",
       "      <td>NaN</td>\n",
       "      <td>NaN</td>\n",
       "      <td>NaN</td>\n",
       "      <td>NaN</td>\n",
       "      <td>NaN</td>\n",
       "      <td>NaN</td>\n",
       "      <td>NaN</td>\n",
       "      <td>NaN</td>\n",
       "      <td>NaN</td>\n",
       "      <td>NaN</td>\n",
       "    </tr>\n",
       "    <tr>\n",
       "      <th>52</th>\n",
       "      <td>38214</td>\n",
       "      <td>38214-12</td>\n",
       "      <td>NaN</td>\n",
       "      <td>Toes</td>\n",
       "      <td>Synthetic</td>\n",
       "      <td>1</td>\n",
       "      <td>0</td>\n",
       "      <td>0</td>\n",
       "      <td>0</td>\n",
       "      <td>NaN</td>\n",
       "      <td>NaN</td>\n",
       "      <td>NaN</td>\n",
       "      <td>NaN</td>\n",
       "      <td>NaN</td>\n",
       "      <td>NaN</td>\n",
       "      <td>NaN</td>\n",
       "      <td>NaN</td>\n",
       "      <td>NaN</td>\n",
       "      <td>NaN</td>\n",
       "      <td>NaN</td>\n",
       "    </tr>\n",
       "    <tr>\n",
       "      <th>96</th>\n",
       "      <td>47196</td>\n",
       "      <td>47196-7</td>\n",
       "      <td>NaN</td>\n",
       "      <td>Toes</td>\n",
       "      <td>Synthetic</td>\n",
       "      <td>1</td>\n",
       "      <td>1</td>\n",
       "      <td>0</td>\n",
       "      <td>0</td>\n",
       "      <td>NaN</td>\n",
       "      <td>NaN</td>\n",
       "      <td>NaN</td>\n",
       "      <td>NaN</td>\n",
       "      <td>NaN</td>\n",
       "      <td>NaN</td>\n",
       "      <td>NaN</td>\n",
       "      <td>NaN</td>\n",
       "      <td>NaN</td>\n",
       "      <td>NaN</td>\n",
       "      <td>NaN</td>\n",
       "    </tr>\n",
       "    <tr>\n",
       "      <th>97</th>\n",
       "      <td>45975</td>\n",
       "      <td>45975-23</td>\n",
       "      <td>NaN</td>\n",
       "      <td>Toes</td>\n",
       "      <td>Natural</td>\n",
       "      <td>1</td>\n",
       "      <td>1</td>\n",
       "      <td>0</td>\n",
       "      <td>0</td>\n",
       "      <td>NaN</td>\n",
       "      <td>NaN</td>\n",
       "      <td>NaN</td>\n",
       "      <td>NaN</td>\n",
       "      <td>NaN</td>\n",
       "      <td>NaN</td>\n",
       "      <td>NaN</td>\n",
       "      <td>NaN</td>\n",
       "      <td>NaN</td>\n",
       "      <td>NaN</td>\n",
       "      <td>NaN</td>\n",
       "    </tr>\n",
       "    <tr>\n",
       "      <th>98</th>\n",
       "      <td>47273</td>\n",
       "      <td>47273-10</td>\n",
       "      <td>NaN</td>\n",
       "      <td>Toes</td>\n",
       "      <td>Synthetic</td>\n",
       "      <td>1</td>\n",
       "      <td>0</td>\n",
       "      <td>0</td>\n",
       "      <td>0</td>\n",
       "      <td>NaN</td>\n",
       "      <td>NaN</td>\n",
       "      <td>NaN</td>\n",
       "      <td>NaN</td>\n",
       "      <td>NaN</td>\n",
       "      <td>NaN</td>\n",
       "      <td>NaN</td>\n",
       "      <td>NaN</td>\n",
       "      <td>NaN</td>\n",
       "      <td>NaN</td>\n",
       "      <td>NaN</td>\n",
       "    </tr>\n",
       "    <tr>\n",
       "      <th>99</th>\n",
       "      <td>40405</td>\n",
       "      <td>40405-29</td>\n",
       "      <td>NaN</td>\n",
       "      <td>Toes</td>\n",
       "      <td>Synthetic</td>\n",
       "      <td>1</td>\n",
       "      <td>1</td>\n",
       "      <td>0</td>\n",
       "      <td>0</td>\n",
       "      <td>NaN</td>\n",
       "      <td>NaN</td>\n",
       "      <td>NaN</td>\n",
       "      <td>NaN</td>\n",
       "      <td>NaN</td>\n",
       "      <td>NaN</td>\n",
       "      <td>NaN</td>\n",
       "      <td>NaN</td>\n",
       "      <td>NaN</td>\n",
       "      <td>NaN</td>\n",
       "      <td>NaN</td>\n",
       "    </tr>\n",
       "  </tbody>\n",
       "</table>\n",
       "</div>"
      ],
      "text/plain": [
       "    PlayerKey    GameID PlayKey BodyPart    Surface  DM_M1  DM_M7  DM_M28  \\\n",
       "49      45950   45950-6     NaN     Toes  Synthetic      1      1       0   \n",
       "51      38253  38253-10     NaN     Toes  Synthetic      1      1       1   \n",
       "52      38214  38214-12     NaN     Toes  Synthetic      1      0       0   \n",
       "96      47196   47196-7     NaN     Toes  Synthetic      1      1       0   \n",
       "97      45975  45975-23     NaN     Toes    Natural      1      1       0   \n",
       "98      47273  47273-10     NaN     Toes  Synthetic      1      0       0   \n",
       "99      40405  40405-29     NaN     Toes  Synthetic      1      1       0   \n",
       "\n",
       "    DM_M42 RosterPosition  PlayerDay  PlayerGame StadiumType FieldType  \\\n",
       "49       0            NaN        NaN         NaN         NaN       NaN   \n",
       "51       0            NaN        NaN         NaN         NaN       NaN   \n",
       "52       0            NaN        NaN         NaN         NaN       NaN   \n",
       "96       0            NaN        NaN         NaN         NaN       NaN   \n",
       "97       0            NaN        NaN         NaN         NaN       NaN   \n",
       "98       0            NaN        NaN         NaN         NaN       NaN   \n",
       "99       0            NaN        NaN         NaN         NaN       NaN   \n",
       "\n",
       "    Temperature Weather PlayType  PlayerGamePlay Position PositionGroup  \n",
       "49          NaN     NaN      NaN             NaN      NaN           NaN  \n",
       "51          NaN     NaN      NaN             NaN      NaN           NaN  \n",
       "52          NaN     NaN      NaN             NaN      NaN           NaN  \n",
       "96          NaN     NaN      NaN             NaN      NaN           NaN  \n",
       "97          NaN     NaN      NaN             NaN      NaN           NaN  \n",
       "98          NaN     NaN      NaN             NaN      NaN           NaN  \n",
       "99          NaN     NaN      NaN             NaN      NaN           NaN  "
      ]
     },
     "execution_count": 26,
     "metadata": {},
     "output_type": "execute_result"
    }
   ],
   "source": [
    "inj_play[inj_play['BodyPart']=='Toes']"
   ]
  },
  {
   "cell_type": "code",
   "execution_count": 27,
   "id": "d77351cf",
   "metadata": {
    "execution": {
     "iopub.execute_input": "2023-03-09T13:23:03.632900Z",
     "iopub.status.busy": "2023-03-09T13:23:03.632394Z",
     "iopub.status.idle": "2023-03-09T13:23:03.650478Z",
     "shell.execute_reply": "2023-03-09T13:23:03.649118Z"
    },
    "papermill": {
     "duration": 0.040613,
     "end_time": "2023-03-09T13:23:03.652914",
     "exception": false,
     "start_time": "2023-03-09T13:23:03.612301",
     "status": "completed"
    },
    "tags": []
   },
   "outputs": [
    {
     "data": {
      "text/html": [
       "<div>\n",
       "<style scoped>\n",
       "    .dataframe tbody tr th:only-of-type {\n",
       "        vertical-align: middle;\n",
       "    }\n",
       "\n",
       "    .dataframe tbody tr th {\n",
       "        vertical-align: top;\n",
       "    }\n",
       "\n",
       "    .dataframe thead th {\n",
       "        text-align: right;\n",
       "    }\n",
       "</style>\n",
       "<table border=\"1\" class=\"dataframe\">\n",
       "  <thead>\n",
       "    <tr style=\"text-align: right;\">\n",
       "      <th></th>\n",
       "      <th>PlayerKey</th>\n",
       "      <th>GameID</th>\n",
       "      <th>PlayKey</th>\n",
       "      <th>BodyPart</th>\n",
       "      <th>Surface</th>\n",
       "      <th>DM_M1</th>\n",
       "      <th>DM_M7</th>\n",
       "      <th>DM_M28</th>\n",
       "      <th>DM_M42</th>\n",
       "    </tr>\n",
       "  </thead>\n",
       "  <tbody>\n",
       "    <tr>\n",
       "      <th>49</th>\n",
       "      <td>45950</td>\n",
       "      <td>45950-6</td>\n",
       "      <td>NaN</td>\n",
       "      <td>Toes</td>\n",
       "      <td>Synthetic</td>\n",
       "      <td>1</td>\n",
       "      <td>1</td>\n",
       "      <td>0</td>\n",
       "      <td>0</td>\n",
       "    </tr>\n",
       "    <tr>\n",
       "      <th>51</th>\n",
       "      <td>38253</td>\n",
       "      <td>38253-10</td>\n",
       "      <td>NaN</td>\n",
       "      <td>Toes</td>\n",
       "      <td>Synthetic</td>\n",
       "      <td>1</td>\n",
       "      <td>1</td>\n",
       "      <td>1</td>\n",
       "      <td>0</td>\n",
       "    </tr>\n",
       "    <tr>\n",
       "      <th>52</th>\n",
       "      <td>38214</td>\n",
       "      <td>38214-12</td>\n",
       "      <td>NaN</td>\n",
       "      <td>Toes</td>\n",
       "      <td>Synthetic</td>\n",
       "      <td>1</td>\n",
       "      <td>0</td>\n",
       "      <td>0</td>\n",
       "      <td>0</td>\n",
       "    </tr>\n",
       "    <tr>\n",
       "      <th>96</th>\n",
       "      <td>47196</td>\n",
       "      <td>47196-7</td>\n",
       "      <td>NaN</td>\n",
       "      <td>Toes</td>\n",
       "      <td>Synthetic</td>\n",
       "      <td>1</td>\n",
       "      <td>1</td>\n",
       "      <td>0</td>\n",
       "      <td>0</td>\n",
       "    </tr>\n",
       "    <tr>\n",
       "      <th>97</th>\n",
       "      <td>45975</td>\n",
       "      <td>45975-23</td>\n",
       "      <td>NaN</td>\n",
       "      <td>Toes</td>\n",
       "      <td>Natural</td>\n",
       "      <td>1</td>\n",
       "      <td>1</td>\n",
       "      <td>0</td>\n",
       "      <td>0</td>\n",
       "    </tr>\n",
       "    <tr>\n",
       "      <th>98</th>\n",
       "      <td>47273</td>\n",
       "      <td>47273-10</td>\n",
       "      <td>NaN</td>\n",
       "      <td>Toes</td>\n",
       "      <td>Synthetic</td>\n",
       "      <td>1</td>\n",
       "      <td>0</td>\n",
       "      <td>0</td>\n",
       "      <td>0</td>\n",
       "    </tr>\n",
       "    <tr>\n",
       "      <th>99</th>\n",
       "      <td>40405</td>\n",
       "      <td>40405-29</td>\n",
       "      <td>NaN</td>\n",
       "      <td>Toes</td>\n",
       "      <td>Synthetic</td>\n",
       "      <td>1</td>\n",
       "      <td>1</td>\n",
       "      <td>0</td>\n",
       "      <td>0</td>\n",
       "    </tr>\n",
       "  </tbody>\n",
       "</table>\n",
       "</div>"
      ],
      "text/plain": [
       "    PlayerKey    GameID PlayKey BodyPart    Surface  DM_M1  DM_M7  DM_M28  \\\n",
       "49      45950   45950-6     NaN     Toes  Synthetic      1      1       0   \n",
       "51      38253  38253-10     NaN     Toes  Synthetic      1      1       1   \n",
       "52      38214  38214-12     NaN     Toes  Synthetic      1      0       0   \n",
       "96      47196   47196-7     NaN     Toes  Synthetic      1      1       0   \n",
       "97      45975  45975-23     NaN     Toes    Natural      1      1       0   \n",
       "98      47273  47273-10     NaN     Toes  Synthetic      1      0       0   \n",
       "99      40405  40405-29     NaN     Toes  Synthetic      1      1       0   \n",
       "\n",
       "    DM_M42  \n",
       "49       0  \n",
       "51       0  \n",
       "52       0  \n",
       "96       0  \n",
       "97       0  \n",
       "98       0  \n",
       "99       0  "
      ]
     },
     "execution_count": 27,
     "metadata": {},
     "output_type": "execute_result"
    }
   ],
   "source": [
    "injuries[injuries['BodyPart']=='Toes']"
   ]
  }
 ],
 "metadata": {
  "kernelspec": {
   "display_name": "Python 3",
   "language": "python",
   "name": "python3"
  },
  "language_info": {
   "codemirror_mode": {
    "name": "ipython",
    "version": 3
   },
   "file_extension": ".py",
   "mimetype": "text/x-python",
   "name": "python",
   "nbconvert_exporter": "python",
   "pygments_lexer": "ipython3",
   "version": "3.7.12"
  },
  "papermill": {
   "default_parameters": {},
   "duration": 131.694876,
   "end_time": "2023-03-09T13:23:06.294131",
   "environment_variables": {},
   "exception": null,
   "input_path": "__notebook__.ipynb",
   "output_path": "__notebook__.ipynb",
   "parameters": {},
   "start_time": "2023-03-09T13:20:54.599255",
   "version": "2.4.0"
  }
 },
 "nbformat": 4,
 "nbformat_minor": 5
}
